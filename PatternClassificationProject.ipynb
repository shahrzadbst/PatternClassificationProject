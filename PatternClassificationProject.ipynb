{
  "nbformat": 4,
  "nbformat_minor": 0,
  "metadata": {
    "colab": {
      "name": "PatternClassificationProject.ipynb",
      "provenance": [],
      "collapsed_sections": []
    },
    "kernelspec": {
      "display_name": "Python 3",
      "name": "python3"
    },
    "language_info": {
      "name": "python"
    }
  },
  "cells": [
    {
      "cell_type": "code",
      "metadata": {
        "id": "8kQebhP0jCMA",
        "colab": {
          "base_uri": "https://localhost:8080/"
        },
        "outputId": "a7171c0e-4613-4dc9-b5a8-cf8b541f028c"
      },
      "source": [
        "# %%javascript\n",
        "# function ClickConnect(){\n",
        "# console.log(\"Working\");\n",
        "# document.querySelector(\"colab-toolbar-button#connect\").click()\n",
        "# }setInterval(ClickConnect,60000)\n",
        "\n",
        "# The shortcut for commenting multiple lines in colab is ctrl + /\n",
        "\"\"\" Pattern Classification and Experiment Design Course Project\"\"\"\n",
        "#%% Importing the required modules\n",
        "import pandas as pd\n",
        "import seaborn as sns\n",
        "import numpy as np\n",
        "import matplotlib.pyplot as plt\n",
        "\n",
        "# Mounting the google drive and reading the csv data file\n",
        "from google.colab import drive\n",
        "drive.mount('/content/drive')\n",
        "df = pd.read_csv('/content/drive/MyDrive/Colab Notebooks/train_data.csv')\n",
        "# df = df.head(10000)\n",
        "#%% a) Data Visualization\n",
        "n = df.shape[0]                                   # Number of samples\n",
        "n_f = df.shape[1] - 2                             # Number of features\n",
        "n1 = sum(np.ones([n,1])[df[\"Label\"]])[0]          # Number of samples in class 1\n",
        "n2 = n - n1                                       # Number of samples in class 2\n",
        "print(f\"Number of samples in class 0: {n1}\\n\")\n",
        "print(f\"Number of samples in class 1: {n2}\\n\")\n"
      ],
      "execution_count": 17,
      "outputs": [
        {
          "output_type": "stream",
          "name": "stdout",
          "text": [
            "Drive already mounted at /content/drive; to attempt to forcibly remount, call drive.mount(\"/content/drive\", force_remount=True).\n",
            "Number of samples in class 0: 23155.0\n",
            "\n",
            "Number of samples in class 1: 86324.0\n",
            "\n"
          ]
        }
      ]
    },
    {
      "cell_type": "code",
      "metadata": {
        "id": "nOLi4ZQScwmi"
      },
      "source": [
        "#b) Isolating the evaluation data, 0.25% of the data is kept for final \n",
        "# evaluation of the classifer\"\"\"\n",
        "from sklearn.model_selection import train_test_split\n",
        "X = df.drop(['Label', 'KIBA'], axis = 1)\n",
        "y = df['Label']\n",
        "X_t, X_eval, y_t, y_eval = train_test_split(X, y, test_size = 0.25, \n",
        "                   random_state = 42, shuffle = True, stratify = y)"
      ],
      "execution_count": 18,
      "outputs": []
    },
    {
      "cell_type": "markdown",
      "metadata": {
        "id": "GUXcSNSuG2Sn"
      },
      "source": [
        "Preprocessing "
      ]
    },
    {
      "cell_type": "code",
      "metadata": {
        "colab": {
          "base_uri": "https://localhost:8080/",
          "height": 655
        },
        "id": "z81C-pN0kD5O",
        "outputId": "221025ed-bf9d-44d7-c452-c8bac2d254b7"
      },
      "source": [
        "# Detect and remove outliers\n",
        "for i in range(n_f):\n",
        "  f = df.columns[i]\n",
        "  quartile1 = X_t[f].quantile(0.25)\n",
        "  quartile3 = X_t[f].quantile(0.75)\n",
        "  iqr = abs(quartile3 - quartile1)\n",
        "  upper_limit = quartile3 + 1.5 * iqr\n",
        "  lower_limit = quartile1 - 1.5 * iqr\n",
        "  I1 = X_t[f] <= upper_limit\n",
        "  I2 = X_t[f] >= lower_limit\n",
        "  I = np.logical_and(I1,I2)\n",
        "\n",
        "X_trimmed = X_t[I]\n",
        "y_trimmed = y_t[I]\n",
        "\n",
        "#%% Feature selection\n",
        "X = X_trimmed\n",
        "y = y_trimmed\n",
        "\n",
        "# Stage 1, removing features with low variance\n",
        "from sklearn.feature_selection import VarianceThreshold\n",
        "from sklearn.feature_selection import mutual_info_classif\n",
        "threshold = 0.01\n",
        "sel = VarianceThreshold(threshold = threshold).fit(X)\n",
        "X_new = sel.transform(X)\n",
        "f = df.columns\n",
        "selected_features = sel.get_feature_names_out(input_features=None)\n",
        "print(\"Number of selected features after variance threshold selection: \")\n",
        "print(f\"{X_new.shape[1]}\\n\")\n",
        "\n",
        "# Stage 2, removing highly correlated features\n",
        "r = np.corrcoef(X_new, y = None, rowvar = False)\n",
        "columns = np.full((r.shape[0],), True, dtype=bool)\n",
        "for i in range(r.shape[0]):\n",
        "    for j in range(i+1, r.shape[0]):\n",
        "        if abs(r[i,j]) >= 0.90:\n",
        "            if columns[j]:\n",
        "                columns[j] = False\n",
        "X_new = X_new[:,columns]\n",
        "selected_features = selected_features[columns]\n",
        "print(\"Number of selected features after correlation analysis: \") \n",
        "print(f\"{X_new.shape[1]}\\n\") \n",
        "                                 \n",
        "# Stage 3, selecting features with high MI score\n",
        "from sklearn.feature_selection import mutual_info_classif\n",
        "from sklearn.feature_selection import  SelectPercentile\n",
        "p = 10                        # Percentage of the number of features to keep\n",
        "sel = SelectPercentile(mutual_info_classif, percentile = p).fit(X_new,y)\n",
        "X_new = sel.transform(X_new)\n",
        "f = df.columns\n",
        "selected_features_indices = sel.get_support(indices = True)\n",
        "selected_features = selected_features[selected_features_indices]\n",
        "print(\"Number of selected features after SelectPercentile with MI metric: \")\n",
        "print(f\"{X_new.shape[1]}\\n\")\n",
        "X = X_new\n",
        "y = y_trimmed\n",
        "\n",
        "# Inspecting final features\n",
        "print(\"Selected features:\\n\")\n",
        "print(f\"{selected_features}\")\n",
        "r = np.corrcoef(X, y = None, rowvar = False)\n",
        "sns.heatmap(r)\n",
        "\n",
        "# Normalizing Data\n",
        "from sklearn.preprocessing import StandardScaler\n",
        "scaler = StandardScaler()\n",
        "X_new = scaler.fit_transform(X)\n",
        "print(np.mean(X, axis = 0))\n",
        "print(np.var(X, axis = 0))\n",
        "X = X_new"
      ],
      "execution_count": 19,
      "outputs": [
        {
          "output_type": "stream",
          "name": "stdout",
          "text": [
            "Number of selected features after variance threshold selection: \n",
            "239\n",
            "\n",
            "Number of selected features after correlation analysis: \n",
            "138\n",
            "\n",
            "Number of selected features after SelectPercentile with MI metric: \n",
            "14\n",
            "\n",
            "Selected features:\n",
            "\n",
            "['G3_SMILES_base' 'G25_SMILES_base' 'G31_SMILES_base' 'G14_SMILES_base'\n",
            " 'G7_SMILES_base' 'G9_SMILES_base' 'G12_SMILES_base' 'G15_SMILES_base'\n",
            " 'G21_SMILES_base' 'G27_SMILES_base' 'G32_SMILES_base' 'G36_SMILES_base'\n",
            " 'G37_SMILES_base' 'G24_SMILES_base']\n",
            "[5.49017359 6.90983178 5.36876814 5.23915078 6.83393396 5.65117531\n",
            " 7.02798391 7.30830579 5.68597484 5.42213507 5.37424273 5.8366483\n",
            " 5.27721893 5.34177544]\n",
            "[0.13527761 0.21329757 0.03162772 0.01802009 0.50482852 0.23466013\n",
            " 0.6658094  0.86503399 0.45057992 0.18148872 0.03154977 0.08329257\n",
            " 0.10914513 0.06184992]\n"
          ]
        },
        {
          "output_type": "display_data",
          "data": {
            "image/png": "[encoded data removed]",
            "text/plain": [
              "<Figure size 432x288 with 2 Axes>"
            ]
          },
          "metadata": {
            "needs_background": "light"
          }
        }
      ]
    },
    {
      "cell_type": "code",
      "metadata": {
        "colab": {
          "base_uri": "https://localhost:8080/"
        },
        "id": "ca8NJk6SLz8J",
        "outputId": "a2858a51-f880-482e-fa7c-57e5996db24f"
      },
      "source": [
        "from sklearn.svm import LinearSVC\n",
        "from sklearn.calibration import CalibratedClassifierCV\n",
        "from sklearn.metrics import confusion_matrix\n",
        "from sklearn.metrics import (precision_recall_curve, PrecisionRecallDisplay)\n",
        "from sklearn.model_selection import StratifiedKFold\n",
        "\n",
        "n_splits = 20\n",
        "skf = StratifiedKFold(n_splits = n_splits)\n",
        "folds = skf.split(X, y)\n",
        "\n",
        "C = 0.3\n",
        "clf = LinearSVC(random_state=0, tol=1e-5, C = C, \n",
        "                            fit_intercept = False, max_iter = 10000)\n",
        "classifier = CalibratedClassifierCV(base_estimator = clf)\n",
        "\n",
        "y_pred = dict()\n",
        "y_test = dict()\n",
        "y_score = dict()\n",
        "ACC = dict()\n",
        "PR = dict()\n",
        "SN = dict()\n",
        "SP = dict()\n",
        "PRECISION = dict()\n",
        "rr = np.linspace(0,1,100)\n",
        "pr_re50 = np.zeros([n_splits,1])\n",
        "i = -1;\n",
        "\n",
        "for train_index, test_index in folds:\n",
        "  i = i+1   \n",
        "  X_train = X[train_index]\n",
        "  X_test = X[test_index]\n",
        "  Y = y.to_numpy()\n",
        "  y_train = Y[train_index]\n",
        "  y_test[i] = Y[test_index]\n",
        "  y_pred[i] = classifier.fit(X_train, y_train).predict(X_test)\n",
        "  dummy = classifier.predict_proba(X_test)  \n",
        "  y_score[i] = dummy[:,1]\n",
        "  tn, fp, fn, tp = confusion_matrix(y_test[i], y_pred[i]).ravel() \n",
        "  ACC[i] = (tp + tn)/(tp + tn + fp + fn)\n",
        "  PR[i] = (tp)/(tp + fp)\n",
        "  SN[i] = (tp)/(tp + fn)\n",
        "  SP[i] = (tn)/(tn + fp) \n",
        "  precision, recall, _ = precision_recall_curve(y_test[i], y_score[i])\n",
        "  PRECISION[i] = np.interp(rr, precision, recall)\n",
        "  dummy = precision[recall>=0.5]\n",
        "  pr_re50[i] = dummy[-1]\n",
        "  dummy = recall[recall>=0.5]\n",
        "  dummy = dummy[-1]\n",
        "  print(f\"Precision at recall = {np.round(dummy,2)}: {pr_re50[i]}\")\n",
        "  # disp = PrecisionRecallDisplay(precision=precision, recall=recall) \n",
        "  # disp.plot()\n",
        "  print(i)\n",
        "\n",
        "\n",
        "  "
      ],
      "execution_count": null,
      "outputs": [
        {
          "output_type": "stream",
          "name": "stdout",
          "text": [
            "Precision at recall = 0.5: [0.30453564]\n",
            "0\n"
          ]
        }
      ]
    },
    {
      "cell_type": "code",
      "metadata": {
        "id": "ifCEfMJ7qn40"
      },
      "source": [
        "from sklearn.metrics import confusion_matrix\n",
        "from sklearn.metrics import ConfusionMatrixDisplay\n",
        "Y_test = y_test[0]\n",
        "Y_pred = y_pred[0]\n",
        "Y_score = y_score[0]\n",
        "for i in range(n_splits - 1):\n",
        "  Y_test = np.concatenate((Y_test, y_test[i+1]))\n",
        "  Y_pred = np.concatenate((Y_pred, y_pred[i+1]))\n",
        "  Y_score = np.concatenate((Y_score, y_score[i+1]))\n",
        "\n",
        "tn, fp, fn, tp = confusion_matrix(Y_test, Y_pred).ravel() \n",
        "acc = (tp + tn)/(tp + tn + fp + fn)\n",
        "pr = (tp)/(tp + fp)\n",
        "sn = (tp)/(tp + fn)\n",
        "sp = (tn)/(tn + fp)\n",
        "print(f\"Accuracy: {acc}\")\n",
        "print(f\"Precision: {pr}\")\n",
        "print(f\"Sensitivity: {sn}\")\n",
        "print(f\"Specificity: {sp}\")\n",
        "\n",
        "plt.figure(1)\n",
        "display = ConfusionMatrixDisplay.from_predictions(Y_test, Y_pred)\n",
        "display.ax_.set_title('Overall Confusion Matrix With Selected Features')\n",
        "\n",
        "from sklearn.metrics import (precision_recall_curve, PrecisionRecallDisplay)\n",
        "precision, recall, _ = precision_recall_curve(Y_test, Y_score)\n",
        "disp = PrecisionRecallDisplay(precision=precision, recall=recall)\n",
        "disp.plot()\n",
        "plt.show()\n",
        "\n",
        "\n",
        "fig, ax = plt.subplots()\n",
        "for i in range(n_splits):\n",
        "    ax.plot(PRECISION[i], rr, alpha=0.3, lw=1, label=f\"Fold {i+1}\") \n",
        "\n",
        "ax.plot(recall, precision, alpha=1, lw=1, label=f\"Overall\")\n",
        "\n",
        "ax.set_xlabel('Precision')\n",
        "ax.set_ylabel('Recall')\n",
        "ax.set_title('Overall Precision-Recall With Optimall Features')  \n",
        "ax.legend(loc=\"upper right\")\n",
        "plt.show()"
      ],
      "execution_count": null,
      "outputs": []
    },
    {
      "cell_type": "code",
      "metadata": {
        "id": "X6z_p1t6Ggqw"
      },
      "source": [
        "dummy1 = np.array(pr_re50)\n",
        "# print(dummy1)\n",
        "mean_PR = np.mean(dummy1)\n",
        "std_PR = np.std(dummy1)\n",
        "print(f\"Mean precision at recall 50: {mean_PR}\")\n",
        "print(f\"Standard deviation for precision at recall 50: {std_PR}\")"
      ],
      "execution_count": null,
      "outputs": []
    },
    {
      "cell_type": "code",
      "metadata": {
        "id": "Y8m3X5vSOjbB"
      },
      "source": [
        "rr = np.linspace(0,1,100)\n",
        "print(X_eval.shape)\n",
        "X_eval = scaler.transform(X_eval[selected_features])\n",
        "y_pred_eval = classifier.fit(X, y).predict(X_eval)\n",
        "dummy = classifier.predict_proba(X_eval)  \n",
        "y_score_eval = dummy[:,1]\n",
        "tn, fp, fn, tp = confusion_matrix(y_eval, y_pred_eval).ravel() \n",
        "ACC[i] = (tp + tn)/(tp + tn + fp + fn)\n",
        "PR[i] = (tp)/(tp + fp)\n",
        "SN[i] = (tp)/(tp + fn)\n",
        "SP[i] = (tn)/(tn + fp) \n",
        "precision, recall, _ = precision_recall_curve(y_eval, y_score_eval)\n",
        "PRECISION[i] = np.interp(rr, precision, recall)\n",
        "dummy = precision[recall>=0.5]\n",
        "pr_re50[i] = dummy[-1]\n",
        "dummy = recall[recall>=0.5]\n",
        "dummy = dummy[-1]\n",
        "print(f\"Precision at recall = {np.round(dummy,2)}: {pr_re50[i]}\")\n"
      ],
      "execution_count": null,
      "outputs": []
    },
    {
      "cell_type": "code",
      "metadata": {
        "id": "T2S1K1AbEH9g"
      },
      "source": [
        "fig, ax = plt.subplots()\n",
        "ax.plot(recall, precision, alpha=1, lw=1,)\n",
        "ax.set_xlabel('Precision')\n",
        "ax.set_ylabel('Recall')\n",
        "ax.set_title('PR Curve for Evaluation Data')  \n",
        "ax.legend(loc=\"upper right\")\n",
        "plt.show()"
      ],
      "execution_count": null,
      "outputs": []
    },
    {
      "cell_type": "code",
      "metadata": {
        "id": "ImH6vx_gG3uS"
      },
      "source": [
        "# from sklearn.metrics import confusion_matrix\n",
        "# from sklearn.metrics import ConfusionMatrixDisplay\n",
        "# Y_test = y_test[0]\n",
        "# Y_pred = y_pred[0]\n",
        "# # Y_score = y_score[0]\n",
        "# for i in range(n_splits - 1):\n",
        "#     Y_test = np.concatenate((Y_test, y_test[i+1]))\n",
        "#     Y_pred = np.concatenate((Y_pred, y_pred[i+1]))\n",
        "#     # Y_score = np.concatenate((Y_score, y_score[i+1]))\n",
        "\n",
        "# tn, fp, fn, tp = confusion_matrix(Y_test, Y_pred).ravel() \n",
        "# acc = (tp + tn)/(tp + tn + fp + fn)\n",
        "# pr = (tp)/(tp + fp)\n",
        "# sn = (tp)/(tp + fn)\n",
        "# sp = (tn)/(tn + fp)\n",
        "# print(f\"Accuracy: {acc}\")\n",
        "# print(f\"Precision: {pr}\")\n",
        "# print(f\"Sensitivity: {sn}\")\n",
        "# print(f\"Specificity: {sp}\")\n",
        "\n",
        "# plt.figure(1)\n",
        "# display = ConfusionMatrixDisplay.from_predictions(Y_test, Y_pred)\n",
        "# display.ax_.set_title('Overall Confusion Matrix With Selected Features')"
      ],
      "execution_count": null,
      "outputs": []
    },
    {
      "cell_type": "code",
      "metadata": {
        "id": "9pFvCHT_wqPA"
      },
      "source": [
        "# from sklearn.model_selection import StratifiedKFold\n",
        "# X = X_new\n",
        "# y = y_trimmed\n",
        "# n_splits = 10\n",
        "# skf = StratifiedKFold(n_splits = n_splits)\n",
        "# folds = skf.split(X, y)"
      ],
      "execution_count": null,
      "outputs": []
    },
    {
      "cell_type": "code",
      "metadata": {
        "id": "eVECYxrTwMUp"
      },
      "source": [
        "# from sklearn.ensemble import AdaBoostClassifier\n",
        "# from sklearn.ensemble import BaggingClassifier\n",
        "# from sklearn.svm import LinearSVC\n",
        "# from sklearn.tree import DecisionTreeClassifier\n",
        "# # classifier = AdaBoostClassifier(base_estimator = \n",
        "# #                   DecisionTreeClassifier(), n_estimators=100, \n",
        "# #                   random_state=0, algorithm='SAMME')\n",
        "\n",
        "# classifier = BaggingClassifier(base_estimator = \n",
        "#                   LinearSVC(C = 0.1, max_iter = 10000), n_estimators=20, \n",
        "#                   random_state=0)\n",
        "\n",
        "# y_pred = dict()\n",
        "# y_test = dict()\n",
        "# y_score = dict()\n",
        "# i = -1;\n",
        "# for train_index, test_index in folds:\n",
        "#   i = i+1   \n",
        "#   X_train = X[train_index]\n",
        "#   X_test = X[test_index]\n",
        "#   Y = y.to_numpy()\n",
        "#   y_train = Y[train_index]\n",
        "#   y_test[i] = Y[test_index]\n",
        "#   y_pred[i] = classifier.fit(X_train, y_train).predict(X_test)\n",
        "#   # y_score[i] = classifier.score(X_test, y_test[i], sample_weight = None)\n",
        "#   print(i)\n",
        "\n",
        "# Y_test = y_test[0]\n",
        "# Y_pred = y_pred[0]\n",
        "# for i in range(n_splits - 1):\n",
        "#     Y_test = np.concatenate((Y_test, y_test[i+1]))\n",
        "#     Y_pred = np.concatenate((Y_pred, y_pred[i+1]))\n",
        "#     # Y_score = np.concatenate((Y_score, y_score[i+1]))"
      ],
      "execution_count": null,
      "outputs": []
    },
    {
      "cell_type": "code",
      "metadata": {
        "id": "DFpvqH4Szxpe"
      },
      "source": [
        "# from sklearn.metrics import confusion_matrix\n",
        "# from sklearn.metrics import ConfusionMatrixDisplay\n",
        "# Y_test = y_test[0]\n",
        "# Y_pred = y_pred[0]\n",
        "# # Y_score = y_score[0]\n",
        "# for i in range(n_splits - 1):\n",
        "#     Y_test = np.concatenate((Y_test, y_test[i+1]))\n",
        "#     Y_pred = np.concatenate((Y_pred, y_pred[i+1]))\n",
        "#     # Y_score = np.concatenate((Y_score, y_score[i+1]))\n",
        "\n",
        "# tn, fp, fn, tp = confusion_matrix(Y_test, Y_pred).ravel() \n",
        "# acc = (tp + tn)/(tp + tn + fp + fn)\n",
        "# pr = (tp)/(tp + fp)\n",
        "# sn = (tp)/(tp + fn)\n",
        "# sp = (tn)/(tn + fp)\n",
        "# print(f\"Accuracy: {acc}\")\n",
        "# print(f\"Precision: {pr}\")\n",
        "# print(f\"Sensitivity: {sn}\")\n",
        "# print(f\"Specificity: {sp}\")\n",
        "\n",
        "# plt.figure(1)\n",
        "# display = ConfusionMatrixDisplay.from_predictions(Y_test, Y_pred)\n",
        "# display.ax_.set_title('Overall Confusion Matrix With Selected Features')"
      ],
      "execution_count": null,
      "outputs": []
    }
  ]
}